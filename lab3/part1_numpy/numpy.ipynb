{
  "cells": [
    {
      "cell_type": "markdown",
      "metadata": {
        "id": "R2Aw6UeAAA0j"
      },
      "source": [
        "\n",
        " Numpy\n",
        "  - Vectorization\n",
        "  - Boardcast\n",
        "  - Identify Matrix\n",
        "  - Indexing and Slicing\n",
        "  - Fancy Array\n",
        "  - Reduction Operation"
      ]
    },
    {
      "cell_type": "markdown",
      "metadata": {
        "id": "sm2ka4lprn1-"
      },
      "source": [
        "# Basic Section (Start)\n"
      ]
    },
    {
      "cell_type": "code",
      "execution_count": 1,
      "metadata": {
        "id": "ekC5lhEacpKu"
      },
      "outputs": [],
      "source": [
        "import numpy as np"
      ]
    },
    {
      "cell_type": "markdown",
      "metadata": {
        "id": "BJ0zt3V0cpKv"
      },
      "source": [
        "## Numpy (Review)\n",
        "\n",
        "Main object type is `np.array`\n",
        "\n",
        "Many ways to create it,\n",
        "\n",
        "One way is to convert a python list"
      ]
    },
    {
      "cell_type": "code",
      "execution_count": null,
      "metadata": {
        "colab": {
          "base_uri": "https://localhost:8080/"
        },
        "id": "xIO3lTj-cpKx",
        "outputId": "a3a6657f-05eb-4f46-e053-78ce932cf3a2"
      },
      "outputs": [],
      "source": [
        "python_list = [1, 2, 3]\n",
        "arr = np.array(python_list)\n",
        "arr"
      ]
    },
    {
      "cell_type": "code",
      "execution_count": null,
      "metadata": {
        "colab": {
          "base_uri": "https://localhost:8080/"
        },
        "id": "pc4i2a416Z5M",
        "outputId": "96388ab6-3a8e-46fa-e7bf-b8e7bb047869"
      },
      "outputs": [],
      "source": [
        "arr**2"
      ]
    },
    {
      "cell_type": "code",
      "execution_count": null,
      "metadata": {
        "colab": {
          "base_uri": "https://localhost:8080/",
          "height": 163
        },
        "id": "LDX_ymhAKp8I",
        "outputId": "4987a17a-ef5a-49db-d477-634527aa6217"
      },
      "outputs": [],
      "source": [
        "python_list**2 #__pow__"
      ]
    },
    {
      "cell_type": "code",
      "execution_count": 10,
      "metadata": {
        "id": "cEIaZrB0US0q"
      },
      "outputs": [],
      "source": [
        "# class.function(self, args) = instance.function(args)"
      ]
    },
    {
      "cell_type": "code",
      "execution_count": null,
      "metadata": {
        "colab": {
          "base_uri": "https://localhost:8080/",
          "height": 198
        },
        "id": "2yasABN8J8z8",
        "outputId": "2eff2da7-aa4d-4cb7-994f-65d2d56d623d"
      },
      "outputs": [],
      "source": [
        "# Magic Function with __XXX__\n",
        "# arr.__pow__(2)\n",
        "python_list.__pow__(2)"
      ]
    },
    {
      "cell_type": "markdown",
      "metadata": {
        "id": "Du3Lpmi-cpKz"
      },
      "source": [
        "Many times a list comprehension is used to create a list and then converted to a array"
      ]
    },
    {
      "cell_type": "code",
      "execution_count": null,
      "metadata": {
        "colab": {
          "base_uri": "https://localhost:8080/"
        },
        "id": "4Xz0VGT0cpKz",
        "outputId": "6cfd53a6-6809-4629-a5d9-052c8a781c53"
      },
      "outputs": [],
      "source": [
        "python_list_pow = [i**2 for i in python_list]  # list comprehension\n",
        "python_list_pow"
      ]
    },
    {
      "cell_type": "code",
      "execution_count": null,
      "metadata": {
        "colab": {
          "base_uri": "https://localhost:8080/"
        },
        "id": "aFu-SnfbMnfk",
        "outputId": "813428f1-286c-453e-96e8-d2a6f07d9cb1"
      },
      "outputs": [],
      "source": [
        "# Extend the behavior of built-in class use inheritance\n",
        "# not directly changing it\n",
        "class PowerList(list):\n",
        "    def __pow__(self, exponent):\n",
        "        print(\"I am called __pow___ for powerlist\")\n",
        "        if not isinstance(exponent, int):\n",
        "            raise ValueError(\"Exponent must be an integer\")\n",
        "        return [i**2 for i in self]\n",
        "\n",
        "my_list = PowerList()\n",
        "my_list.extend([1,2,3])\n",
        "print(\"Original list:\", my_list)\n",
        "\n",
        "powered_list = my_list ** 2\n",
        "print(\"List to the power of 2:\", powered_list)\n"
      ]
    },
    {
      "cell_type": "markdown",
      "metadata": {
        "id": "U1acF_mOcpK2"
      },
      "source": [
        "### Exercise (Pre-Lec)\n",
        "Create a numpy array that contain  intergers i  such that  0<i<100 and $2^i$ has the last digit 6"
      ]
    },
    {
      "cell_type": "code",
      "execution_count": null,
      "metadata": {
        "colab": {
          "base_uri": "https://localhost:8080/"
        },
        "id": "1B0gVXMSbsoU",
        "outputId": "7bb5b155-e2a3-4c3b-98cd-eb07e2631ae5"
      },
      "outputs": [
        {
          "name": "stdout",
          "output_type": "stream",
          "text": [
            "[ 4  8 12 16 20 24 28 32 36 40 44 48 52 56 60 64 68 72 76 80 84 88 92 96]\n"
          ]
        }
      ],
      "source": [
        "arr_i = np.arange(1, 100)\n",
        "result = arr_i[arr_i % 4 == 0]\n",
        "print(result)"
      ]
    },
    {
      "cell_type": "markdown",
      "metadata": {
        "id": "c0fMYyztcpK3"
      },
      "source": [
        "Create a 2D numpy array $A$ (5,10) such that $A_{ij} = i\\times j$"
      ]
    },
    {
      "cell_type": "code",
      "execution_count": 5,
      "metadata": {
        "colab": {
          "base_uri": "https://localhost:8080/"
        },
        "id": "ObzFUe3GbtCk",
        "outputId": "005909c0-52e2-4b56-ed1d-68d25b32cc52"
      },
      "outputs": [
        {
          "name": "stdout",
          "output_type": "stream",
          "text": [
            "[[ 0  0  0  0  0  0  0  0  0  0]\n",
            " [ 0  1  2  3  4  5  6  7  8  9]\n",
            " [ 0  2  4  6  8 10 12 14 16 18]\n",
            " [ 0  3  6  9 12 15 18 21 24 27]\n",
            " [ 0  4  8 12 16 20 24 28 32 36]]\n"
          ]
        }
      ],
      "source": [
        "i_indices = np.arange(5)\n",
        "j_indices = np.arange(10)\n",
        "A = np.outer(i_indices, j_indices)\n",
        "print(A)"
      ]
    },
    {
      "cell_type": "markdown",
      "metadata": {
        "id": "Clx3TzpdcpK7"
      },
      "source": [
        "## Another way to create a numpy array is with initializing functions\n",
        "\n",
        "- np.zeros\n",
        "- np.ones\n",
        "- np.arange\n",
        "\n",
        "These functions along with `reshape` can be used to create initial matrix without any for loops"
      ]
    },
    {
      "cell_type": "code",
      "execution_count": 3,
      "metadata": {
        "colab": {
          "base_uri": "https://localhost:8080/"
        },
        "id": "Q_MicPfVcpK7",
        "outputId": "c805d4ab-47c2-402f-fd1c-7340f079c174"
      },
      "outputs": [
        {
          "data": {
            "text/plain": [
              "array([[0., 0., 0., 0., 0., 0., 0., 0., 0., 0.],\n",
              "       [0., 0., 0., 0., 0., 0., 0., 0., 0., 0.],\n",
              "       [0., 0., 0., 0., 0., 0., 0., 0., 0., 0.],\n",
              "       [0., 0., 0., 0., 0., 0., 0., 0., 0., 0.],\n",
              "       [0., 0., 0., 0., 0., 0., 0., 0., 0., 0.],\n",
              "       [0., 0., 0., 0., 0., 0., 0., 0., 0., 0.],\n",
              "       [0., 0., 0., 0., 0., 0., 0., 0., 0., 0.],\n",
              "       [0., 0., 0., 0., 0., 0., 0., 0., 0., 0.],\n",
              "       [0., 0., 0., 0., 0., 0., 0., 0., 0., 0.],\n",
              "       [0., 0., 0., 0., 0., 0., 0., 0., 0., 0.]])"
            ]
          },
          "execution_count": 3,
          "metadata": {},
          "output_type": "execute_result"
        }
      ],
      "source": [
        "np.zeros(shape = (10, 10))"
      ]
    },
    {
      "cell_type": "code",
      "execution_count": 4,
      "metadata": {
        "colab": {
          "base_uri": "https://localhost:8080/"
        },
        "id": "ewrnqEk0cpK8",
        "outputId": "78065a9f-0034-4f09-e59d-5e422f9df4b4"
      },
      "outputs": [
        {
          "data": {
            "text/plain": [
              "array([[2., 2., 2., 2., 2., 2., 2., 2., 2., 2.],\n",
              "       [2., 2., 2., 2., 2., 2., 2., 2., 2., 2.],\n",
              "       [2., 2., 2., 2., 2., 2., 2., 2., 2., 2.],\n",
              "       [2., 2., 2., 2., 2., 2., 2., 2., 2., 2.],\n",
              "       [2., 2., 2., 2., 2., 2., 2., 2., 2., 2.],\n",
              "       [2., 2., 2., 2., 2., 2., 2., 2., 2., 2.],\n",
              "       [2., 2., 2., 2., 2., 2., 2., 2., 2., 2.],\n",
              "       [2., 2., 2., 2., 2., 2., 2., 2., 2., 2.],\n",
              "       [2., 2., 2., 2., 2., 2., 2., 2., 2., 2.],\n",
              "       [2., 2., 2., 2., 2., 2., 2., 2., 2., 2.]])"
            ]
          },
          "execution_count": 4,
          "metadata": {},
          "output_type": "execute_result"
        }
      ],
      "source": [
        "np.ones((10, 10)) * 2"
      ]
    },
    {
      "cell_type": "code",
      "execution_count": null,
      "metadata": {
        "colab": {
          "base_uri": "https://localhost:8080/"
        },
        "id": "9OvLSdfdcpK8",
        "outputId": "1d51ff1b-108b-4b7c-8315-dde5eb920041"
      },
      "outputs": [],
      "source": [
        "np.arange(2, 10, 2)  # equivalent to range(2,10,2)"
      ]
    },
    {
      "cell_type": "markdown",
      "metadata": {
        "id": "wkfUmrQOQt-C"
      },
      "source": [
        "### Exercise (In Lec)"
      ]
    },
    {
      "cell_type": "markdown",
      "metadata": {
        "id": "yxz7GZEicpK6"
      },
      "source": [
        "Create an array of first 10 powers of 2"
      ]
    },
    {
      "cell_type": "code",
      "execution_count": 8,
      "metadata": {
        "colab": {
          "base_uri": "https://localhost:8080/"
        },
        "id": "UQr37aElWsSl",
        "outputId": "f7298b51-36c4-456a-c207-be65aeea2396"
      },
      "outputs": [
        {
          "name": "stdout",
          "output_type": "stream",
          "text": [
            "[  1   2   4   8  16  32  64 128 256 512]\n"
          ]
        }
      ],
      "source": [
        "expo=np.arange(10)\n",
        "result=2**expo\n",
        "print(result)"
      ]
    },
    {
      "cell_type": "markdown",
      "metadata": {
        "id": "KBuHu7Mng2Y5"
      },
      "source": [
        "### 1D vs 2D array"
      ]
    },
    {
      "cell_type": "code",
      "execution_count": 9,
      "metadata": {
        "colab": {
          "base_uri": "https://localhost:8080/"
        },
        "id": "1a1g17LScpK9",
        "outputId": "663ada13-60ac-415c-cf67-ccd58a19ad7b"
      },
      "outputs": [
        {
          "name": "stdout",
          "output_type": "stream",
          "text": [
            "(1, 10)\n"
          ]
        },
        {
          "data": {
            "text/plain": [
              "array([[ 0,  1,  4,  9, 16, 25, 36, 49, 64, 81]])"
            ]
          },
          "execution_count": 9,
          "metadata": {},
          "output_type": "execute_result"
        }
      ],
      "source": [
        "array1D = np.arange(10) * np.arange(10)\n",
        "array1D = array1D.reshape(1,-1)\n",
        "print(array1D.shape)\n",
        "array1D"
      ]
    },
    {
      "cell_type": "code",
      "execution_count": 10,
      "metadata": {
        "colab": {
          "base_uri": "https://localhost:8080/"
        },
        "id": "TEkHHkPVlcta",
        "outputId": "a3950493-1261-4b6a-cba1-6ae91b1417e0"
      },
      "outputs": [
        {
          "name": "stdout",
          "output_type": "stream",
          "text": [
            "(10, 1)\n"
          ]
        },
        {
          "data": {
            "text/plain": [
              "array([[0],\n",
              "       [1],\n",
              "       [2],\n",
              "       [3],\n",
              "       [4],\n",
              "       [5],\n",
              "       [6],\n",
              "       [7],\n",
              "       [8],\n",
              "       [9]])"
            ]
          },
          "execution_count": 10,
          "metadata": {},
          "output_type": "execute_result"
        }
      ],
      "source": [
        "array2D = np.arange(10).reshape(10, 1)\n",
        "print(array2D.shape)\n",
        "array2D"
      ]
    },
    {
      "cell_type": "code",
      "execution_count": 11,
      "metadata": {
        "colab": {
          "base_uri": "https://localhost:8080/"
        },
        "id": "n9MqPp9WcpK9",
        "outputId": "adce5ad1-a57f-4cff-80cf-c63c1828e275"
      },
      "outputs": [
        {
          "data": {
            "text/plain": [
              "array([[ 0,  1,  4,  9, 16, 25, 36, 49, 64, 81],\n",
              "       [ 1,  2,  5, 10, 17, 26, 37, 50, 65, 82],\n",
              "       [ 2,  3,  6, 11, 18, 27, 38, 51, 66, 83],\n",
              "       [ 3,  4,  7, 12, 19, 28, 39, 52, 67, 84],\n",
              "       [ 4,  5,  8, 13, 20, 29, 40, 53, 68, 85],\n",
              "       [ 5,  6,  9, 14, 21, 30, 41, 54, 69, 86],\n",
              "       [ 6,  7, 10, 15, 22, 31, 42, 55, 70, 87],\n",
              "       [ 7,  8, 11, 16, 23, 32, 43, 56, 71, 88],\n",
              "       [ 8,  9, 12, 17, 24, 33, 44, 57, 72, 89],\n",
              "       [ 9, 10, 13, 18, 25, 34, 45, 58, 73, 90]])"
            ]
          },
          "execution_count": 11,
          "metadata": {},
          "output_type": "execute_result"
        }
      ],
      "source": [
        "array2D + array1D #boardcasting"
      ]
    },
    {
      "cell_type": "markdown",
      "metadata": {
        "id": "4m52F0GLcpK-"
      },
      "source": [
        "### Distinction between numpy 1D arrays and numpy 2D arrays\n",
        "\n",
        "This tends to cause a lot of confusion for new numpy users.\n",
        "Follow the below examples carefully to understand the distinction."
      ]
    },
    {
      "cell_type": "code",
      "execution_count": 12,
      "metadata": {
        "colab": {
          "base_uri": "https://localhost:8080/"
        },
        "id": "hOS5NmDccpK_",
        "outputId": "6ce460bf-af49-48bd-e53f-1da6e4c79b6f"
      },
      "outputs": [
        {
          "name": "stdout",
          "output_type": "stream",
          "text": [
            "[0. 0. 0. 0. 0. 0. 0. 0. 0. 0.]\n"
          ]
        },
        {
          "data": {
            "text/plain": [
              "(10,)"
            ]
          },
          "execution_count": 12,
          "metadata": {},
          "output_type": "execute_result"
        }
      ],
      "source": [
        "Z = np.zeros(shape=10)\n",
        "print(Z)\n",
        "Z.shape"
      ]
    },
    {
      "cell_type": "code",
      "execution_count": 13,
      "metadata": {
        "colab": {
          "base_uri": "https://localhost:8080/"
        },
        "id": "ORpO8ZaFcpK_",
        "outputId": "60d8475e-bb50-4c9b-ddc5-65477e1d1ef1"
      },
      "outputs": [
        {
          "name": "stdout",
          "output_type": "stream",
          "text": [
            "[[0.]\n",
            " [0.]\n",
            " [0.]\n",
            " [0.]\n",
            " [0.]\n",
            " [0.]\n",
            " [0.]\n",
            " [0.]\n",
            " [0.]\n",
            " [0.]]\n"
          ]
        },
        {
          "data": {
            "text/plain": [
              "(10, 1)"
            ]
          },
          "execution_count": 13,
          "metadata": {},
          "output_type": "execute_result"
        }
      ],
      "source": [
        "# Create 2D array by reshape\n",
        "Z = np.zeros(10).reshape(10, 1)\n",
        "print(Z)\n",
        "Z.shape"
      ]
    },
    {
      "cell_type": "code",
      "execution_count": 14,
      "metadata": {
        "colab": {
          "base_uri": "https://localhost:8080/"
        },
        "id": "-AiQ3VrVl2hN",
        "outputId": "930012e2-9905-460f-9e2d-fcbe4a138b39"
      },
      "outputs": [
        {
          "data": {
            "text/plain": [
              "array([0., 0., 0., 0., 0., 0., 0., 0., 0., 0.])"
            ]
          },
          "execution_count": 14,
          "metadata": {},
          "output_type": "execute_result"
        }
      ],
      "source": [
        "Z.squeeze()  # remove axis with length = 1"
      ]
    },
    {
      "cell_type": "code",
      "execution_count": 15,
      "metadata": {
        "colab": {
          "base_uri": "https://localhost:8080/"
        },
        "id": "wtG-DpHAcpK_",
        "outputId": "d92f6c08-ceb3-4aa9-fb3f-4abe7c285165"
      },
      "outputs": [
        {
          "name": "stdout",
          "output_type": "stream",
          "text": [
            "[[[[0. 0. 0.]\n",
            "   [0. 0. 0.]]]]\n",
            "(1, 1, 2, 3) \n",
            "\n",
            "[[0. 0. 0.]\n",
            " [0. 0. 0.]]\n",
            "(2, 3)\n"
          ]
        }
      ],
      "source": [
        "# squeeze Remove axes of length one\n",
        "Z = np.zeros(6).reshape(1, 1, 2, 3)\n",
        "print(Z)\n",
        "print(Z.shape, \"\\n\")\n",
        "\n",
        "Z_squeeze = Z.squeeze()\n",
        "print(Z_squeeze)\n",
        "print(Z_squeeze.shape)"
      ]
    },
    {
      "cell_type": "code",
      "execution_count": 16,
      "metadata": {
        "colab": {
          "base_uri": "https://localhost:8080/"
        },
        "id": "BonXzKqucpLA",
        "outputId": "efd149ed-520e-434e-8be9-a0d1072aee72"
      },
      "outputs": [
        {
          "data": {
            "text/plain": [
              "(10, 10)"
            ]
          },
          "execution_count": 16,
          "metadata": {},
          "output_type": "execute_result"
        }
      ],
      "source": [
        "# Matrix Multiplication\n",
        "Mat = np.random.randn(10, 10)\n",
        "Mat.shape"
      ]
    },
    {
      "cell_type": "code",
      "execution_count": 17,
      "metadata": {
        "colab": {
          "base_uri": "https://localhost:8080/"
        },
        "id": "Zgge9PBYcpLA",
        "outputId": "ee3abf21-11a4-4b83-dc38-d552684db8be"
      },
      "outputs": [
        {
          "name": "stdout",
          "output_type": "stream",
          "text": [
            "[[0]\n",
            " [1]\n",
            " [2]\n",
            " [3]\n",
            " [4]\n",
            " [5]\n",
            " [6]\n",
            " [7]\n",
            " [8]\n",
            " [9]]\n",
            "(10, 1)\n"
          ]
        }
      ],
      "source": [
        "Z = np.arange(10).reshape(10, 1)\n",
        "print(Z)\n",
        "print(Z.shape)"
      ]
    },
    {
      "cell_type": "code",
      "execution_count": null,
      "metadata": {
        "colab": {
          "base_uri": "https://localhost:8080/"
        },
        "id": "4PzWzG4Att7w",
        "outputId": "d259eea7-a09b-48f4-b0ee-cdda26dd8625"
      },
      "outputs": [],
      "source": [
        "# (N, M) @ (M, K) = (N, K)\n",
        "Mat @ Z"
      ]
    },
    {
      "cell_type": "code",
      "execution_count": null,
      "metadata": {
        "colab": {
          "base_uri": "https://localhost:8080/",
          "height": 251
        },
        "id": "wNeR6q8mcpLA",
        "outputId": "a08924f2-cd15-4e5d-b375-8fa88d9e52c3"
      },
      "outputs": [],
      "source": [
        "Z = np.arange(10).reshape(1, 10)\n",
        "\n",
        "print(Mat.shape)\n",
        "print(Z.shape)\n",
        "\n",
        "# (N, M) @ (M, K) = (N, K)\n",
        "Mat @ Z  # (10, 10) @ (1, 10) NOT WORKING"
      ]
    },
    {
      "cell_type": "code",
      "execution_count": null,
      "metadata": {
        "colab": {
          "base_uri": "https://localhost:8080/"
        },
        "id": "csqE3Sqq1_YX",
        "outputId": "06c51cf0-9c8a-437f-9059-fa2d25f4eb37"
      },
      "outputs": [],
      "source": [
        "(Z @ Mat).shape"
      ]
    },
    {
      "cell_type": "code",
      "execution_count": null,
      "metadata": {
        "colab": {
          "base_uri": "https://localhost:8080/"
        },
        "id": "WxkZh6mtcpLB",
        "outputId": "d32a7424-aa8d-48ca-8a21-7c0e982a015e"
      },
      "outputs": [],
      "source": [
        "# array variable is also a pointer\n",
        "x = np.zeros((5, 5))\n",
        "y = x.copy()\n",
        "x[1, 1] = 2\n",
        "\n",
        "y"
      ]
    },
    {
      "cell_type": "markdown",
      "metadata": {
        "id": "6F8S5BDUcpLB"
      },
      "source": [
        "## Array Broadcasting\n",
        "\n",
        "Normally you only do arithmetic operations between arrays of the same dimension\n",
        "\n",
        "The smaller array of at least 1 dimension of size 1 is “broadcast” across the larger array so that they have compatible shapes by dimension."
      ]
    },
    {
      "cell_type": "code",
      "execution_count": null,
      "metadata": {
        "colab": {
          "base_uri": "https://localhost:8080/"
        },
        "id": "Odab6zqGMpLE",
        "outputId": "d71981e2-73a5-4e89-f31c-5e718881143d"
      },
      "outputs": [],
      "source": [
        "a = np.arange(3).reshape(1, 3)\n",
        "b = np.arange(6).reshape(6, 1)\n",
        "c = np.ones((3, 3))\n",
        "d = np.zeros((6, 3))\n",
        "print(a, \"\\n\")\n",
        "print(b, \"\\n\")\n",
        "print(c, \"\\n\")\n",
        "print(d, \"\\n\")"
      ]
    },
    {
      "cell_type": "code",
      "execution_count": null,
      "metadata": {
        "colab": {
          "base_uri": "https://localhost:8080/"
        },
        "id": "UEsPlv7KcpLC",
        "outputId": "b039743a-7c42-4439-b1b1-ae0dfd524ed8"
      },
      "outputs": [],
      "source": [
        "# c + 2\n",
        "# c + c\n",
        "# d + a\n",
        "# c + d\n",
        "b + d"
      ]
    },
    {
      "cell_type": "code",
      "execution_count": null,
      "metadata": {
        "colab": {
          "base_uri": "https://localhost:8080/"
        },
        "id": "YRiRURBPcpLD",
        "outputId": "347347e1-4d8e-406f-f24d-c0e35aa70ef8"
      },
      "outputs": [],
      "source": [
        "a + b"
      ]
    },
    {
      "cell_type": "code",
      "execution_count": null,
      "metadata": {
        "id": "S0rfUgFtcpLD"
      },
      "outputs": [],
      "source": [
        "X = np.arange(4).reshape(-1, 1) * 10\n",
        "Y = np.arange(3).reshape(1, -1)\n",
        "print(X.shape)\n",
        "print(Y.shape, \"\\n\")\n",
        "print(X, \"\\n\")\n",
        "print(Y, \"\\n\")\n",
        "X + Y"
      ]
    },
    {
      "cell_type": "markdown",
      "metadata": {
        "id": "8Hv2qdGpluQl"
      },
      "source": [
        "it tries to duplicates every x’s col and y’s row (dim size = 1) to match the other arrays\n",
        "1. Make the two arrays have the same number of dimensions.\n",
        "  - If the numbers of dimensions of the two arrays are different, add new dimensions with size 1 to the head of the array with the smaller dimension.\n",
        "\n",
        "2. If there is a dimension whose size is not 1 in either of the two arrays, it cannot be broadcasted, and an error is raised."
      ]
    },
    {
      "cell_type": "markdown",
      "metadata": {
        "id": "MhdH-qrJcpLD"
      },
      "source": [
        "![](http://scipy-lectures.org/_images/numpy_broadcasting.png)"
      ]
    },
    {
      "cell_type": "markdown",
      "metadata": {
        "id": "2ls4P9gDcpLD"
      },
      "source": [
        "### Exercise (In-Lecture)\n",
        "create a 2D numpy array $A$ (shape = (5,10) ) such that $A_{ij} = i\\times j$, but without using list comprehensions. Use broadcasting instead\n"
      ]
    },
    {
      "cell_type": "code",
      "execution_count": 18,
      "metadata": {
        "id": "4irE8JMJvArT"
      },
      "outputs": [
        {
          "name": "stdout",
          "output_type": "stream",
          "text": [
            "[[ 0  0  0  0  0  0  0  0  0  0]\n",
            " [ 0  1  2  3  4  5  6  7  8  9]\n",
            " [ 0  2  4  6  8 10 12 14 16 18]\n",
            " [ 0  3  6  9 12 15 18 21 24 27]\n",
            " [ 0  4  8 12 16 20 24 28 32 36]]\n"
          ]
        }
      ],
      "source": [
        "# hint: check how it looks for\n",
        "i_indices=np.arange(5).reshape(-1,1)\n",
        "j_indices=np.arange(10).reshape(1,-1)\n",
        "\n",
        "A = i_indices * j_indices\n",
        "print(A)"
      ]
    },
    {
      "cell_type": "markdown",
      "metadata": {
        "id": "v4e7Hp77cpLE"
      },
      "source": [
        "Use array broadcasting to create a (10,10) numpy array with values\n",
        "$$ A_{ij} = 2^i + j $$"
      ]
    },
    {
      "cell_type": "code",
      "execution_count": 19,
      "metadata": {
        "id": "JAmO02Z-nDlT"
      },
      "outputs": [
        {
          "name": "stdout",
          "output_type": "stream",
          "text": [
            "[[  1   2   3   4   5   6   7   8   9  10]\n",
            " [  2   3   4   5   6   7   8   9  10  11]\n",
            " [  4   5   6   7   8   9  10  11  12  13]\n",
            " [  8   9  10  11  12  13  14  15  16  17]\n",
            " [ 16  17  18  19  20  21  22  23  24  25]\n",
            " [ 32  33  34  35  36  37  38  39  40  41]\n",
            " [ 64  65  66  67  68  69  70  71  72  73]\n",
            " [128 129 130 131 132 133 134 135 136 137]\n",
            " [256 257 258 259 260 261 262 263 264 265]\n",
            " [512 513 514 515 516 517 518 519 520 521]]\n"
          ]
        }
      ],
      "source": [
        "# Hint: Check the values of\n",
        "power_of_2= 2**(np.arange(10).reshape(-1,1))\n",
        "j_values= np.arange(10).reshape(1,-1)\n",
        "A = power_of_2 + j_values\n",
        "print(A)"
      ]
    },
    {
      "cell_type": "markdown",
      "metadata": {
        "id": "TKaxKNLns6vy"
      },
      "source": [
        "# Basic Section (End)"
      ]
    },
    {
      "cell_type": "markdown",
      "metadata": {
        "id": "SuT-q0hKcpLE"
      },
      "source": [
        "## Matrix creation\n",
        "\n",
        "There are some functions to create standard matrices"
      ]
    },
    {
      "cell_type": "code",
      "execution_count": 20,
      "metadata": {
        "colab": {
          "base_uri": "https://localhost:8080/"
        },
        "id": "m_AduRywcpLE",
        "outputId": "e36d59fb-4b10-4c8d-f826-bd0885a90c91"
      },
      "outputs": [
        {
          "data": {
            "text/plain": [
              "array([[1., 0., 0., 0., 0.],\n",
              "       [0., 1., 0., 0., 0.],\n",
              "       [0., 0., 1., 0., 0.],\n",
              "       [0., 0., 0., 1., 0.],\n",
              "       [0., 0., 0., 0., 1.]])"
            ]
          },
          "execution_count": 20,
          "metadata": {},
          "output_type": "execute_result"
        }
      ],
      "source": [
        "np.eye(5)"
      ]
    },
    {
      "cell_type": "code",
      "execution_count": 21,
      "metadata": {
        "colab": {
          "base_uri": "https://localhost:8080/"
        },
        "id": "ik1RQuxs4xaQ",
        "outputId": "621d9cf4-751b-4d20-fcf3-9ac3f7acf426"
      },
      "outputs": [
        {
          "data": {
            "text/plain": [
              "array([0, 1, 2, 3, 4, 5, 6, 7, 8, 9])"
            ]
          },
          "execution_count": 21,
          "metadata": {},
          "output_type": "execute_result"
        }
      ],
      "source": [
        "np.arange(10)"
      ]
    },
    {
      "cell_type": "code",
      "execution_count": 22,
      "metadata": {
        "colab": {
          "base_uri": "https://localhost:8080/"
        },
        "id": "bc0OrhdycpLE",
        "outputId": "d877ba9d-f8c4-4e43-883d-faa57d4ccc40"
      },
      "outputs": [
        {
          "data": {
            "text/plain": [
              "array([[0, 0, 0, 0, 0, 0, 0, 0, 0, 0],\n",
              "       [0, 1, 0, 0, 0, 0, 0, 0, 0, 0],\n",
              "       [0, 0, 2, 0, 0, 0, 0, 0, 0, 0],\n",
              "       [0, 0, 0, 3, 0, 0, 0, 0, 0, 0],\n",
              "       [0, 0, 0, 0, 4, 0, 0, 0, 0, 0],\n",
              "       [0, 0, 0, 0, 0, 5, 0, 0, 0, 0],\n",
              "       [0, 0, 0, 0, 0, 0, 6, 0, 0, 0],\n",
              "       [0, 0, 0, 0, 0, 0, 0, 7, 0, 0],\n",
              "       [0, 0, 0, 0, 0, 0, 0, 0, 8, 0],\n",
              "       [0, 0, 0, 0, 0, 0, 0, 0, 0, 9]])"
            ]
          },
          "execution_count": 22,
          "metadata": {},
          "output_type": "execute_result"
        }
      ],
      "source": [
        "# np.diag: Extract a diagonal or construct a diagonal array.\n",
        "M = np.diag(np.arange(10))  # .reshape(5,20)\n",
        "M"
      ]
    },
    {
      "cell_type": "code",
      "execution_count": 23,
      "metadata": {
        "colab": {
          "base_uri": "https://localhost:8080/"
        },
        "id": "CCH9_P_0cpLF",
        "outputId": "c5b32583-4edc-4356-e6ac-909775aca514"
      },
      "outputs": [
        {
          "data": {
            "text/plain": [
              "array([0, 1, 2, 3, 4, 5, 6, 7, 8, 9])"
            ]
          },
          "execution_count": 23,
          "metadata": {},
          "output_type": "execute_result"
        }
      ],
      "source": [
        "np.diag(M)"
      ]
    },
    {
      "cell_type": "code",
      "execution_count": 24,
      "metadata": {
        "colab": {
          "base_uri": "https://localhost:8080/"
        },
        "id": "p6xq39cCcpLF",
        "outputId": "c99b1be9-7a92-4d5c-913f-1b072fe6c77b"
      },
      "outputs": [
        {
          "name": "stdout",
          "output_type": "stream",
          "text": [
            "(5, 3)\n"
          ]
        },
        {
          "data": {
            "text/plain": [
              "array([[ 0,  1,  2],\n",
              "       [ 3,  4,  5],\n",
              "       [ 6,  7,  8],\n",
              "       [ 9, 10, 11],\n",
              "       [12, 13, 14]])"
            ]
          },
          "execution_count": 24,
          "metadata": {},
          "output_type": "execute_result"
        }
      ],
      "source": [
        "# Transpose of the matrix\n",
        "A = np.arange(15).reshape(5, 3)\n",
        "print(A.shape)\n",
        "A"
      ]
    },
    {
      "cell_type": "code",
      "execution_count": 25,
      "metadata": {
        "colab": {
          "base_uri": "https://localhost:8080/"
        },
        "id": "5MCDBv15jDy9",
        "outputId": "02f697d8-ff25-4885-8d0f-2657ecfe4657"
      },
      "outputs": [
        {
          "data": {
            "text/plain": [
              "array([[ 0,  3,  6,  9, 12],\n",
              "       [ 1,  4,  7, 10, 13],\n",
              "       [ 2,  5,  8, 11, 14]])"
            ]
          },
          "execution_count": 25,
          "metadata": {},
          "output_type": "execute_result"
        }
      ],
      "source": [
        "A.T"
      ]
    },
    {
      "cell_type": "code",
      "execution_count": 26,
      "metadata": {
        "colab": {
          "base_uri": "https://localhost:8080/"
        },
        "id": "xrExcBTqcpLF",
        "outputId": "779b46f3-109f-4c91-b7c1-5394ddd3ae81"
      },
      "outputs": [
        {
          "data": {
            "text/plain": [
              "array([[ 0,  3,  6,  9, 12],\n",
              "       [ 1,  4,  7, 10, 13],\n",
              "       [ 2,  5,  8, 11, 14]])"
            ]
          },
          "execution_count": 26,
          "metadata": {},
          "output_type": "execute_result"
        }
      ],
      "source": [
        "A.transpose()"
      ]
    },
    {
      "cell_type": "markdown",
      "metadata": {
        "id": "Aa_FofGIoIyQ"
      },
      "source": [
        "### random seed"
      ]
    },
    {
      "cell_type": "code",
      "execution_count": 27,
      "metadata": {
        "colab": {
          "base_uri": "https://localhost:8080/"
        },
        "id": "uqSzWqbaoulP",
        "outputId": "d39e8170-2e5a-4b06-b44d-2af4b3aef20b"
      },
      "outputs": [
        {
          "data": {
            "text/plain": [
              "array([[0.43901725, 0.94488259, 0.11047745, 0.93078705, 0.87604751],\n",
              "       [0.85927086, 0.84631765, 0.74076718, 0.825513  , 0.1639836 ],\n",
              "       [0.23729941, 0.33799416, 0.53300202, 0.03733165, 0.35974464],\n",
              "       [0.22835053, 0.09493026, 0.79445396, 0.13481129, 0.18043868],\n",
              "       [0.48944864, 0.61594006, 0.23250319, 0.60460009, 0.96314418]])"
            ]
          },
          "execution_count": 27,
          "metadata": {},
          "output_type": "execute_result"
        }
      ],
      "source": [
        "np.random.rand(5, 5)"
      ]
    },
    {
      "cell_type": "code",
      "execution_count": null,
      "metadata": {
        "colab": {
          "base_uri": "https://localhost:8080/"
        },
        "id": "G6gxAaVhcpLG",
        "outputId": "657bef4b-e404-44c4-e22f-dfa0d2948b38"
      },
      "outputs": [],
      "source": [
        "np.random.seed(0)  # control the random state\n",
        "print(np.random.rand(5, 5))\n",
        "print(np.random.rand(5, 5))\n",
        "print(np.random.rand(5, 5))"
      ]
    },
    {
      "cell_type": "markdown",
      "metadata": {
        "id": "c32AfJCMcpLG"
      },
      "source": [
        "### Exercise (Post Lecture)\n",
        "\n",
        "Create this matrix   \n",
        "\n",
        "```python\n",
        "array([[5., 1., 1., 1., 1., 1., 1., 1., 1., 1., 1.],\n",
        "       [1., 4., 1., 1., 1., 1., 1., 1., 1., 1., 1.],\n",
        "       [1., 1., 3., 1., 1., 1., 1., 1., 1., 1., 1.],\n",
        "       [1., 1., 1., 2., 1., 1., 1., 1., 1., 1., 1.],\n",
        "       [1., 1., 1., 1., 1., 1., 1., 1., 1., 1., 1.],\n",
        "       [1., 1., 1., 1., 1., 0., 1., 1., 1., 1., 1.],\n",
        "       [1., 1., 1., 1., 1., 1., 1., 1., 1., 1., 1.],\n",
        "       [1., 1., 1., 1., 1., 1., 1., 2., 1., 1., 1.],\n",
        "       [1., 1., 1., 1., 1., 1., 1., 1., 3., 1., 1.],\n",
        "       [1., 1., 1., 1., 1., 1., 1., 1., 1., 4., 1.],\n",
        "       [1., 1., 1., 1., 1., 1., 1., 1., 1., 1., 5.]])\n",
        "```"
      ]
    },
    {
      "cell_type": "code",
      "execution_count": 29,
      "metadata": {
        "id": "H0546O8UcpLH"
      },
      "outputs": [
        {
          "data": {
            "text/plain": [
              "array([[5., 1., 1., 1., 1., 1., 1., 1., 1., 1., 1.],\n",
              "       [1., 4., 1., 1., 1., 1., 1., 1., 1., 1., 1.],\n",
              "       [1., 1., 3., 1., 1., 1., 1., 1., 1., 1., 1.],\n",
              "       [1., 1., 1., 2., 1., 1., 1., 1., 1., 1., 1.],\n",
              "       [1., 1., 1., 1., 1., 1., 1., 1., 1., 1., 1.],\n",
              "       [1., 1., 1., 1., 1., 0., 1., 1., 1., 1., 1.],\n",
              "       [1., 1., 1., 1., 1., 1., 1., 1., 1., 1., 1.],\n",
              "       [1., 1., 1., 1., 1., 1., 1., 2., 1., 1., 1.],\n",
              "       [1., 1., 1., 1., 1., 1., 1., 1., 3., 1., 1.],\n",
              "       [1., 1., 1., 1., 1., 1., 1., 1., 1., 4., 1.],\n",
              "       [1., 1., 1., 1., 1., 1., 1., 1., 1., 1., 5.]])"
            ]
          },
          "execution_count": 29,
          "metadata": {},
          "output_type": "execute_result"
        }
      ],
      "source": [
        "matrix=np.full((11,11),1.)\n",
        "\n",
        "diagonal=np.array([5., 4., 3., 2., 1., 0., 1., 2., 3., 4., 5.])\n",
        "\n",
        "np.fill_diagonal(matrix,diagonal)\n",
        "\n",
        "matrix"
      ]
    },
    {
      "cell_type": "markdown",
      "metadata": {
        "id": "7sBUB-10cpLH"
      },
      "source": [
        "## Array Indexing and Slicing"
      ]
    },
    {
      "cell_type": "code",
      "execution_count": 28,
      "metadata": {
        "colab": {
          "base_uri": "https://localhost:8080/"
        },
        "id": "w_fypLsicpLH",
        "outputId": "68f01b74-0eba-48d3-b4a0-3701c456d06e"
      },
      "outputs": [
        {
          "data": {
            "text/plain": [
              "array([0, 1, 2, 3, 4, 5, 6, 7, 8, 9])"
            ]
          },
          "execution_count": 28,
          "metadata": {},
          "output_type": "execute_result"
        }
      ],
      "source": [
        "import numpy as np\n",
        "\n",
        "arr = np.arange(10)\n",
        "arr"
      ]
    },
    {
      "cell_type": "code",
      "execution_count": 30,
      "metadata": {
        "colab": {
          "base_uri": "https://localhost:8080/"
        },
        "id": "ek7TJqX-cpLH",
        "outputId": "e303b571-71e4-473a-ce77-4d3718cd0f93"
      },
      "outputs": [
        {
          "data": {
            "text/plain": [
              "np.int64(5)"
            ]
          },
          "execution_count": 30,
          "metadata": {},
          "output_type": "execute_result"
        }
      ],
      "source": [
        "arr[5]"
      ]
    },
    {
      "cell_type": "code",
      "execution_count": 31,
      "metadata": {
        "colab": {
          "base_uri": "https://localhost:8080/"
        },
        "id": "3VwM84XPRCIV",
        "outputId": "36d05a5e-801d-49e8-8401-50d91a7e41d8"
      },
      "outputs": [
        {
          "data": {
            "text/plain": [
              "np.int64(7)"
            ]
          },
          "execution_count": 31,
          "metadata": {},
          "output_type": "execute_result"
        }
      ],
      "source": [
        "arr[-3]"
      ]
    },
    {
      "cell_type": "code",
      "execution_count": 32,
      "metadata": {
        "colab": {
          "base_uri": "https://localhost:8080/"
        },
        "id": "WsRvDLWacpLI",
        "outputId": "66705a6f-c169-48a8-c9b4-4a582a94154f"
      },
      "outputs": [
        {
          "data": {
            "text/plain": [
              "array([3, 4, 5, 6])"
            ]
          },
          "execution_count": 32,
          "metadata": {},
          "output_type": "execute_result"
        }
      ],
      "source": [
        "arr[3:7]"
      ]
    },
    {
      "cell_type": "code",
      "execution_count": null,
      "metadata": {
        "colab": {
          "base_uri": "https://localhost:8080/"
        },
        "id": "DH2tZoZ5cpLI",
        "outputId": "4e341fd3-3d23-4685-8e1c-0e914ada873f"
      },
      "outputs": [],
      "source": [
        "arr[2:]"
      ]
    },
    {
      "cell_type": "code",
      "execution_count": null,
      "metadata": {
        "colab": {
          "base_uri": "https://localhost:8080/"
        },
        "id": "7OASWxJncpLI",
        "outputId": "04d837ca-5e51-40ca-846b-73c4c99c9a5a"
      },
      "outputs": [],
      "source": [
        "arr[0:-3]"
      ]
    },
    {
      "cell_type": "code",
      "execution_count": null,
      "metadata": {
        "colab": {
          "base_uri": "https://localhost:8080/"
        },
        "id": "yjg5vIYbcpLI",
        "outputId": "fe8de7fe-a196-4dab-81f8-18eb5958e4e4"
      },
      "outputs": [],
      "source": [
        "arr[0:6:2]  # similar as range(0,6,2)"
      ]
    },
    {
      "cell_type": "code",
      "execution_count": 36,
      "metadata": {
        "colab": {
          "base_uri": "https://localhost:8080/"
        },
        "id": "YvNXaLtPcpLI",
        "outputId": "dde1ed19-1e8d-4745-984a-1d92ec9de2e7"
      },
      "outputs": [
        {
          "data": {
            "text/plain": [
              "array([5, 3, 1])"
            ]
          },
          "execution_count": 36,
          "metadata": {},
          "output_type": "execute_result"
        }
      ],
      "source": [
        "arr[5:0:-2]"
      ]
    },
    {
      "cell_type": "code",
      "execution_count": 35,
      "metadata": {
        "colab": {
          "base_uri": "https://localhost:8080/"
        },
        "id": "woqqKnphcpLI",
        "outputId": "6fb240e4-2a34-4dfd-d8ff-80a2e6758e20"
      },
      "outputs": [
        {
          "data": {
            "text/plain": [
              "array([9, 8, 7, 6, 5, 4, 3, 2, 1, 0])"
            ]
          },
          "execution_count": 35,
          "metadata": {},
          "output_type": "execute_result"
        }
      ],
      "source": [
        "arr[::-1]"
      ]
    },
    {
      "cell_type": "code",
      "execution_count": 34,
      "metadata": {
        "colab": {
          "base_uri": "https://localhost:8080/"
        },
        "id": "SbWOYU1rcpLJ",
        "outputId": "c3682b41-bc15-4285-ca76-a711c3fa9289"
      },
      "outputs": [
        {
          "data": {
            "text/plain": [
              "array([0, 1, 2, 3, 4, 5, 6, 7, 8, 9])"
            ]
          },
          "execution_count": 34,
          "metadata": {},
          "output_type": "execute_result"
        }
      ],
      "source": [
        "arr[:]"
      ]
    },
    {
      "cell_type": "code",
      "execution_count": 33,
      "metadata": {
        "id": "SUQJIQgakNze"
      },
      "outputs": [
        {
          "data": {
            "text/plain": [
              "array([0, 1, 2, 3, 4, 5, 6, 7, 8, 9])"
            ]
          },
          "execution_count": 33,
          "metadata": {},
          "output_type": "execute_result"
        }
      ],
      "source": [
        "arr"
      ]
    },
    {
      "cell_type": "code",
      "execution_count": null,
      "metadata": {
        "id": "8cIHEi6Mn_Sf"
      },
      "outputs": [],
      "source": [
        "a = 10 * np.arange(6).reshape(-1, 1) + np.arange(6)\n",
        "print(a)\n",
        "# a[4:, 4:]"
      ]
    },
    {
      "cell_type": "markdown",
      "metadata": {
        "id": "tapilH8YcpLJ"
      },
      "source": [
        "Can use all the above slicing methods for each dimension of a multidemnsional array\n",
        "![](http://scipy-lectures.org/_images/numpy_indexing.png)"
      ]
    },
    {
      "cell_type": "markdown",
      "metadata": {
        "id": "4tUcmolfcpLJ"
      },
      "source": [
        "try it yourself"
      ]
    },
    {
      "cell_type": "markdown",
      "metadata": {
        "id": "y-mTwEvkcpLK"
      },
      "source": [
        "### Exercise (Post-Lecture)\n",
        "Create the following matrix, using `np.ones()`, `np.zeros()`, and slicing\n",
        "```python\n",
        "array([[1., 1., 1., 1., 1., 1., 1., 1., 1., 1.],\n",
        "       [1., 1., 1., 1., 1., 1., 1., 1., 1., 1.],\n",
        "       [1., 1., 0., 0., 0., 0., 0., 0., 1., 1.],\n",
        "       [1., 1., 0., 0., 0., 0., 0., 0., 1., 1.],\n",
        "       [1., 1., 0., 0., 0., 0., 0., 0., 1., 1.],\n",
        "       [1., 1., 0., 0., 0., 0., 0., 0., 1., 1.],\n",
        "       [1., 1., 0., 0., 0., 0., 0., 0., 1., 1.],\n",
        "       [1., 1., 0., 0., 0., 0., 0., 0., 1., 1.],\n",
        "       [1., 1., 1., 1., 1., 1., 1., 1., 1., 1.],\n",
        "       [1., 1., 1., 1., 1., 1., 1., 1., 1., 1.]])\n",
        "```"
      ]
    },
    {
      "cell_type": "code",
      "execution_count": 39,
      "metadata": {
        "id": "-kXUXbGRcpLK"
      },
      "outputs": [
        {
          "name": "stdout",
          "output_type": "stream",
          "text": [
            "[[1. 1. 1. 1. 1. 1. 1. 1. 1. 1.]\n",
            " [1. 1. 1. 1. 1. 1. 1. 1. 1. 1.]\n",
            " [1. 1. 0. 0. 0. 0. 0. 0. 1. 1.]\n",
            " [1. 1. 0. 0. 0. 0. 0. 0. 1. 1.]\n",
            " [1. 1. 0. 0. 0. 0. 0. 0. 1. 1.]\n",
            " [1. 1. 0. 0. 0. 0. 0. 0. 1. 1.]\n",
            " [1. 1. 0. 0. 0. 0. 0. 0. 1. 1.]\n",
            " [1. 1. 0. 0. 0. 0. 0. 0. 1. 1.]\n",
            " [1. 1. 1. 1. 1. 1. 1. 1. 1. 1.]\n",
            " [1. 1. 1. 1. 1. 1. 1. 1. 1. 1.]]\n"
          ]
        }
      ],
      "source": [
        "matrix = np.ones((10, 10))\n",
        "\n",
        "matrix[2:-2, 2:-2] = 0\n",
        "\n",
        "print(matrix)"
      ]
    },
    {
      "cell_type": "markdown",
      "metadata": {
        "id": "UHi8Zj4acpLK"
      },
      "source": [
        "Create the following matrix\n",
        "```python\n",
        "array([[-1., -1., -1., -1., -1., -1., -1., -1., -1., -1.],\n",
        "       [-1.,  0.,  1.,  2.,  3.,  4., -1., -1., -1., -1.],\n",
        "       [-1.,  5.,  6.,  7.,  8.,  9., -1., -1., -1., -1.],\n",
        "       [-1., 10., 11., 12., 13., 14., -1., -1., -1., -1.],\n",
        "       [-1., 15., 16., 17., 18., 19., -1., -1., -1., -1.],\n",
        "       [-1., 20., 21., 22., 23., 24., -1., -1., -1., -1.],\n",
        "       [-1., 25., 26., 27., 28., 29., -1., -1., -1., -1.],\n",
        "       [-1., 30., 31., 32., 33., 34., -1., -1., -1., -1.],\n",
        "       [-1., 35., 36., 37., 38., 39., -1., -1., -1., -1.],\n",
        "       [-1., -1., -1., -1., -1., -1., -1., -1., -1., -1.]])\n",
        "```"
      ]
    },
    {
      "cell_type": "code",
      "execution_count": 41,
      "metadata": {
        "id": "OfG1CN9FcpLK"
      },
      "outputs": [
        {
          "name": "stdout",
          "output_type": "stream",
          "text": [
            "[[-1. -1. -1. -1. -1. -1. -1. -1. -1. -1.]\n",
            " [-1.  0.  1.  2.  3.  4. -1. -1. -1. -1.]\n",
            " [-1.  5.  6.  7.  8.  9. -1. -1. -1. -1.]\n",
            " [-1. 10. 11. 12. 13. 14. -1. -1. -1. -1.]\n",
            " [-1. 15. 16. 17. 18. 19. -1. -1. -1. -1.]\n",
            " [-1. 20. 21. 22. 23. 24. -1. -1. -1. -1.]\n",
            " [-1. 25. 26. 27. 28. 29. -1. -1. -1. -1.]\n",
            " [-1. 30. 31. 32. 33. 34. -1. -1. -1. -1.]\n",
            " [-1. 35. 36. 37. 38. 39. -1. -1. -1. -1.]\n",
            " [-1. -1. -1. -1. -1. -1. -1. -1. -1. -1.]]\n"
          ]
        }
      ],
      "source": [
        "matrix=np.ones((10,10))*-1\n",
        "\n",
        "matrix[1:9,1:6]=np.arange(40).reshape(-1,5)\n",
        "\n",
        "print(matrix)"
      ]
    },
    {
      "cell_type": "markdown",
      "metadata": {
        "id": "r1a-dglxcpLL"
      },
      "source": [
        "# Fancy Array Indexing\n",
        "\n",
        "We can use numpy arrays as an index for other numpy arrays"
      ]
    },
    {
      "cell_type": "code",
      "execution_count": 42,
      "metadata": {
        "colab": {
          "base_uri": "https://localhost:8080/"
        },
        "id": "Q8xYPQexcpLL",
        "outputId": "5f4c02c6-067d-4263-e7b7-20345877193d"
      },
      "outputs": [
        {
          "data": {
            "text/plain": [
              "array([0, 1, 2, 3, 4, 5, 6, 7, 8, 9])"
            ]
          },
          "execution_count": 42,
          "metadata": {},
          "output_type": "execute_result"
        }
      ],
      "source": [
        "arr = np.arange(10)\n",
        "arr"
      ]
    },
    {
      "cell_type": "code",
      "execution_count": 43,
      "metadata": {
        "colab": {
          "base_uri": "https://localhost:8080/"
        },
        "id": "wccPNb_KcpLL",
        "outputId": "53db96b9-ec27-4238-8638-2401ffe590bf"
      },
      "outputs": [
        {
          "data": {
            "text/plain": [
              "array([ 2,  7, -1])"
            ]
          },
          "execution_count": 43,
          "metadata": {},
          "output_type": "execute_result"
        }
      ],
      "source": [
        "# use array/list/tuple as indexs\n",
        "idx = np.array([2, 7, -1])\n",
        "idx"
      ]
    },
    {
      "cell_type": "code",
      "execution_count": 44,
      "metadata": {
        "colab": {
          "base_uri": "https://localhost:8080/"
        },
        "id": "_b6P6mzecpLL",
        "outputId": "7d2be830-92c1-430a-8439-10b20c1fdf39"
      },
      "outputs": [
        {
          "name": "stdout",
          "output_type": "stream",
          "text": [
            "[2 7 9]\n"
          ]
        },
        {
          "data": {
            "text/plain": [
              "array([ 0,  1, -1,  3,  4,  5,  6, -1,  8, -1])"
            ]
          },
          "execution_count": 44,
          "metadata": {},
          "output_type": "execute_result"
        }
      ],
      "source": [
        "print(arr[idx])\n",
        "arr[idx] = -1\n",
        "arr"
      ]
    },
    {
      "cell_type": "code",
      "execution_count": 45,
      "metadata": {
        "colab": {
          "base_uri": "https://localhost:8080/"
        },
        "id": "0u7cOoKVcpLL",
        "outputId": "530c9468-39ae-4641-d6a4-9f5b710314b2"
      },
      "outputs": [
        {
          "data": {
            "text/plain": [
              "array([False, False,  True, False, False, False, False,  True, False,\n",
              "        True])"
            ]
          },
          "execution_count": 45,
          "metadata": {},
          "output_type": "execute_result"
        }
      ],
      "source": [
        "# use bool array\n",
        "arr < 0"
      ]
    },
    {
      "cell_type": "code",
      "execution_count": 46,
      "metadata": {
        "colab": {
          "base_uri": "https://localhost:8080/"
        },
        "id": "CBSA1MaOcpLL",
        "outputId": "ae133335-2a82-41ce-c210-3733756a2817"
      },
      "outputs": [
        {
          "data": {
            "text/plain": [
              "array([  0,   1, 100,   3,   4,   5,   6, 100,   8, 100])"
            ]
          },
          "execution_count": 46,
          "metadata": {},
          "output_type": "execute_result"
        }
      ],
      "source": [
        "arr[arr < 0] = 100\n",
        "arr"
      ]
    },
    {
      "cell_type": "markdown",
      "metadata": {
        "id": "ieEw3imtcpLM"
      },
      "source": [
        "For multidimensional array, array indexing works different from slicing"
      ]
    },
    {
      "cell_type": "code",
      "execution_count": 49,
      "metadata": {
        "colab": {
          "base_uri": "https://localhost:8080/"
        },
        "id": "gLwyjAAtcpLM",
        "outputId": "d4b02dce-c55a-4df7-e220-1f9f52ad4487"
      },
      "outputs": [
        {
          "data": {
            "text/plain": [
              "array([[0., 0., 0., 0., 0., 0.],\n",
              "       [0., 0., 0., 0., 0., 0.],\n",
              "       [1., 1., 1., 0., 0., 0.],\n",
              "       [1., 1., 1., 0., 0., 0.],\n",
              "       [1., 1., 1., 0., 0., 0.],\n",
              "       [0., 0., 0., 0., 0., 0.]])"
            ]
          },
          "execution_count": 49,
          "metadata": {},
          "output_type": "execute_result"
        }
      ],
      "source": [
        "X = np.zeros((6, 6))\n",
        "X[2:5, 0:3] = 1\n",
        "X"
      ]
    },
    {
      "cell_type": "code",
      "execution_count": 47,
      "metadata": {
        "colab": {
          "base_uri": "https://localhost:8080/"
        },
        "id": "OgszejT3ky5c",
        "outputId": "f9fc711f-3970-4d70-dbf5-e2365759f1b5"
      },
      "outputs": [
        {
          "data": {
            "text/plain": [
              "(array([2, 3, 4]), array([0, 1, 2]))"
            ]
          },
          "execution_count": 47,
          "metadata": {},
          "output_type": "execute_result"
        }
      ],
      "source": [
        "np.arange(2, 5), np.arange(0, 3)"
      ]
    },
    {
      "cell_type": "code",
      "execution_count": 48,
      "metadata": {
        "colab": {
          "base_uri": "https://localhost:8080/"
        },
        "id": "dryNdm5PcpLM",
        "outputId": "8a55a100-6ff3-4369-bced-62cf84789d1e"
      },
      "outputs": [
        {
          "data": {
            "text/plain": [
              "array([[0., 0., 0., 0., 0., 0.],\n",
              "       [0., 0., 0., 0., 0., 0.],\n",
              "       [1., 0., 0., 0., 0., 0.],\n",
              "       [0., 1., 0., 0., 0., 0.],\n",
              "       [0., 0., 1., 0., 0., 0.],\n",
              "       [0., 0., 0., 0., 0., 0.]])"
            ]
          },
          "execution_count": 48,
          "metadata": {},
          "output_type": "execute_result"
        }
      ],
      "source": [
        "X = np.zeros((6, 6))\n",
        "X[np.arange(2, 5), np.arange(0, 3)] = 1\n",
        "X"
      ]
    },
    {
      "cell_type": "code",
      "execution_count": 50,
      "metadata": {
        "colab": {
          "base_uri": "https://localhost:8080/"
        },
        "id": "T3cfJVoecpLM",
        "outputId": "762b1a62-47fa-4caf-8975-b9c98303af58"
      },
      "outputs": [
        {
          "data": {
            "text/plain": [
              "array([[ 0,  1,  2,  3,  4,  5],\n",
              "       [10, 11, 12, 13, 14, 15],\n",
              "       [20, 21, 22, 23, 24, 25],\n",
              "       [30, 31, 32, 33, 34, 35],\n",
              "       [40, 41, 42, 43, 44, 45],\n",
              "       [50, 51, 52, 53, 54, 55]])"
            ]
          },
          "execution_count": 50,
          "metadata": {},
          "output_type": "execute_result"
        }
      ],
      "source": [
        "# Here is our array, what should we return?\n",
        "a = 10 * np.arange(6).reshape(-1, 1) + np.arange(6)\n",
        "a"
      ]
    },
    {
      "cell_type": "code",
      "execution_count": 51,
      "metadata": {
        "id": "gYPf1JVrcpLN"
      },
      "outputs": [
        {
          "data": {
            "text/plain": [
              "array([10, 21, 32, 43, 54])"
            ]
          },
          "execution_count": 51,
          "metadata": {},
          "output_type": "execute_result"
        }
      ],
      "source": [
        "a[(1, 2, 3, 4, 5), (0, 1, 2, 3, 4)]"
      ]
    },
    {
      "cell_type": "code",
      "execution_count": 52,
      "metadata": {
        "id": "En0_DPUATTD5"
      },
      "outputs": [
        {
          "data": {
            "text/plain": [
              "array([[30, 32, 35],\n",
              "       [40, 42, 45],\n",
              "       [50, 52, 55]])"
            ]
          },
          "execution_count": 52,
          "metadata": {},
          "output_type": "execute_result"
        }
      ],
      "source": [
        "a[3:, [0, 2, 5]]"
      ]
    },
    {
      "cell_type": "code",
      "execution_count": 53,
      "metadata": {
        "id": "SF6L76_uTTMb"
      },
      "outputs": [
        {
          "name": "stdout",
          "output_type": "stream",
          "text": [
            "[ True False  True False False  True]\n"
          ]
        },
        {
          "data": {
            "text/plain": [
              "array([ 2, 22, 52])"
            ]
          },
          "execution_count": 53,
          "metadata": {},
          "output_type": "execute_result"
        }
      ],
      "source": [
        "mask = np.array([1, 0, 1, 0, 0, 1], dtype=bool)\n",
        "print(mask)\n",
        "a[mask, 2]"
      ]
    },
    {
      "cell_type": "code",
      "execution_count": null,
      "metadata": {
        "colab": {
          "base_uri": "https://localhost:8080/"
        },
        "id": "vToQqdO-dwy9",
        "outputId": "d4f43cd8-ccc5-4fec-aaba-ccb43957c9a0"
      },
      "outputs": [],
      "source": [
        "mask = np.array([1,0,1,0,0,1])\n",
        "a[mask,2]"
      ]
    },
    {
      "cell_type": "markdown",
      "metadata": {
        "id": "40etmVYRcpLN"
      },
      "source": [
        "![](http://scipy-lectures.org/_images/numpy_fancy_indexing.png)"
      ]
    },
    {
      "cell_type": "code",
      "execution_count": null,
      "metadata": {},
      "outputs": [],
      "source": []
    },
    {
      "cell_type": "markdown",
      "metadata": {
        "id": "yjacL27WcpLN"
      },
      "source": [
        "### Exercise (Post - Lecture)\n",
        "Create the following matrix\n",
        "```python\n",
        "array([[0., 0., 0., 0., 0., 0., 0., 0., 0., 1.],\n",
        "       [0., 0., 0., 0., 0., 0., 0., 1., 0., 0.],\n",
        "       [0., 0., 0., 0., 0., 1., 0., 0., 0., 0.],\n",
        "       [0., 0., 0., 1., 0., 0., 0., 0., 0., 0.],\n",
        "       [0., 1., 0., 0., 0., 0., 0., 0., 0., 0.],\n",
        "       [0., 1., 0., 0., 0., 0., 0., 0., 0., 0.],\n",
        "       [0., 0., 0., 1., 0., 0., 0., 0., 0., 0.],\n",
        "       [0., 0., 0., 0., 0., 1., 0., 0., 0., 0.],\n",
        "       [0., 0., 0., 0., 0., 0., 0., 1., 0., 0.],\n",
        "       [0., 0., 0., 0., 0., 0., 0., 0., 0., 1.]])\n",
        "```"
      ]
    },
    {
      "cell_type": "code",
      "execution_count": 3,
      "metadata": {
        "id": "DTkKnYepcpLO"
      },
      "outputs": [
        {
          "name": "stdout",
          "output_type": "stream",
          "text": [
            "[[0. 0. 0. 0. 0. 0. 0. 0. 0. 1.]\n",
            " [0. 0. 0. 0. 0. 0. 0. 1. 0. 0.]\n",
            " [0. 0. 0. 0. 0. 1. 0. 0. 0. 0.]\n",
            " [0. 0. 0. 1. 0. 0. 0. 0. 0. 0.]\n",
            " [0. 1. 0. 0. 0. 0. 0. 0. 0. 0.]\n",
            " [0. 1. 0. 0. 0. 0. 0. 0. 0. 0.]\n",
            " [0. 0. 0. 1. 0. 0. 0. 0. 0. 0.]\n",
            " [0. 0. 0. 0. 0. 1. 0. 0. 0. 0.]\n",
            " [0. 0. 0. 0. 0. 0. 0. 1. 0. 0.]\n",
            " [0. 0. 0. 0. 0. 0. 0. 0. 0. 1.]]\n"
          ]
        }
      ],
      "source": [
        "import numpy as np\n",
        "matrix=np.zeros((10,10))\n",
        "matrix[(0,1,2,3,4,5,6,7,8,9),(9,7,5,3,1,1,3,5,7,9)]=1\n",
        "print(matrix)"
      ]
    },
    {
      "cell_type": "markdown",
      "metadata": {
        "id": "nTu3gNhNcpLO"
      },
      "source": [
        "### Exercise (Post Lecture)\n",
        "Write a function to compute the [trace](https://en.wikipedia.org/wiki/Trace_(linear_algebra)) of a square numpy array using fancy array indexing. Compare your implementation to numpy's built-in function `np.trace`."
      ]
    },
    {
      "cell_type": "code",
      "execution_count": 10,
      "metadata": {
        "id": "1ZE8dfvbcpLO"
      },
      "outputs": [
        {
          "data": {
            "text/plain": [
              "array([[1, 2, 3],\n",
              "       [4, 5, 6],\n",
              "       [7, 8, 9]])"
            ]
          },
          "execution_count": 10,
          "metadata": {},
          "output_type": "execute_result"
        }
      ],
      "source": [
        "def trace(a):\n",
        "  n=a.shape[0]\n",
        "  indices=np.arange(n)\n",
        "  diagnal=a[indices,indices]\n",
        "  return diagnal.sum()\n",
        "# 示例和验证\n",
        "a = np.array([[1, 2, 3],\n",
        "              [4, 5, 6],\n",
        "              [7, 8, 9]])\n",
        "trace(a) == np.trace(a)\n",
        "a"
      ]
    },
    {
      "cell_type": "markdown",
      "metadata": {
        "id": "q5zRB9GycpLO"
      },
      "source": [
        "We can use `np.where`, to get indices of the `True` values in a boolean array"
      ]
    },
    {
      "cell_type": "code",
      "execution_count": 6,
      "metadata": {
        "id": "-Z454xw1uWhr"
      },
      "outputs": [
        {
          "name": "stdout",
          "output_type": "stream",
          "text": [
            "[[ 0  1  2  3  4]\n",
            " [ 5  6  7  8  9]\n",
            " [10 11 12 13 14]\n",
            " [15 16 17 18 19]\n",
            " [20 21 22 23 24]]\n",
            "(array([3, 3, 3, 3, 3, 4, 4, 4, 4, 4]), array([0, 1, 2, 3, 4, 0, 1, 2, 3, 4]))\n"
          ]
        }
      ],
      "source": [
        "Y = np.arange(25).reshape(5, 5)\n",
        "print(Y)\n",
        "Y > 14\n",
        "print(np.where(Y > 14))\n",
        "# Y[np.where(Y>14)]"
      ]
    },
    {
      "cell_type": "markdown",
      "metadata": {
        "id": "QLxyEUlJcpLO"
      },
      "source": [
        "## Reduction operations\n",
        "\n",
        "Many reduction functions are available\n",
        "\n",
        "- np.sum, np.prod\n",
        "- np.min, np.max\n",
        "- np.any, np.all\n",
        "\n",
        "Partial reductions\n",
        "\n",
        "- np.cumsum, np.cumprod"
      ]
    },
    {
      "cell_type": "code",
      "execution_count": 11,
      "metadata": {
        "colab": {
          "base_uri": "https://localhost:8080/"
        },
        "id": "n3-oTPmAcpLP",
        "outputId": "62cb0415-cd2a-452a-b2e5-6f78deb09347"
      },
      "outputs": [
        {
          "data": {
            "text/plain": [
              "array([[ 0,  1,  2,  3,  4],\n",
              "       [ 5,  6,  7,  8,  9],\n",
              "       [10, 11, 12, 13, 14],\n",
              "       [15, 16, 17, 18, 19],\n",
              "       [20, 21, 22, 23, 24],\n",
              "       [25, 26, 27, 28, 29],\n",
              "       [30, 31, 32, 33, 34],\n",
              "       [35, 36, 37, 38, 39],\n",
              "       [40, 41, 42, 43, 44],\n",
              "       [45, 46, 47, 48, 49]])"
            ]
          },
          "execution_count": 11,
          "metadata": {},
          "output_type": "execute_result"
        }
      ],
      "source": [
        "X = np.arange(50).reshape(10,5)\n",
        "X"
      ]
    },
    {
      "cell_type": "code",
      "execution_count": 12,
      "metadata": {
        "id": "JlHMkXQKcpLP"
      },
      "outputs": [
        {
          "data": {
            "text/plain": [
              "(np.int64(1225), np.int64(0))"
            ]
          },
          "execution_count": 12,
          "metadata": {},
          "output_type": "execute_result"
        }
      ],
      "source": [
        "np.sum(X), np.prod(X)\n",
        "# class.method(self)"
      ]
    },
    {
      "cell_type": "markdown",
      "metadata": {
        "id": "g_6eWJYmcft8"
      },
      "source": [
        "The way to understand the “axis” of numpy sum is it collapses the specified axis. So when it collapses the axis 0 (row), it becomes just one row and column-wise sum."
      ]
    },
    {
      "cell_type": "code",
      "execution_count": 13,
      "metadata": {
        "colab": {
          "base_uri": "https://localhost:8080/"
        },
        "id": "yGO-EguJcpLP",
        "outputId": "c5b6601c-7fa2-4f3f-8b25-7940a0485cc4"
      },
      "outputs": [
        {
          "data": {
            "text/plain": [
              "array([ 10,  35,  60,  85, 110, 135, 160, 185, 210, 235])"
            ]
          },
          "execution_count": 13,
          "metadata": {},
          "output_type": "execute_result"
        }
      ],
      "source": [
        "# sum of the rows\n",
        "np.sum(X, axis=1)"
      ]
    },
    {
      "cell_type": "code",
      "execution_count": 14,
      "metadata": {
        "colab": {
          "base_uri": "https://localhost:8080/"
        },
        "id": "EnhMNdmTmYhF",
        "outputId": "6fbc2ca6-b90a-4b47-8491-229cd4dd0ba6"
      },
      "outputs": [
        {
          "data": {
            "text/plain": [
              "array([ 10,  35,  60,  85, 110, 135, 160, 185, 210, 235])"
            ]
          },
          "execution_count": 14,
          "metadata": {},
          "output_type": "execute_result"
        }
      ],
      "source": [
        "X.sum(axis=1)"
      ]
    },
    {
      "cell_type": "code",
      "execution_count": 15,
      "metadata": {
        "id": "AAQ2oeiOcpLP"
      },
      "outputs": [
        {
          "data": {
            "text/plain": [
              "(np.int64(0), np.int64(49))"
            ]
          },
          "execution_count": 15,
          "metadata": {},
          "output_type": "execute_result"
        }
      ],
      "source": [
        "np.min(X), np.max(X)"
      ]
    },
    {
      "cell_type": "code",
      "execution_count": 16,
      "metadata": {
        "id": "DTxiE53y8wMh"
      },
      "outputs": [
        {
          "data": {
            "text/plain": [
              "array([[ 0,  1,  2,  3,  4],\n",
              "       [ 5,  6,  7,  8,  9],\n",
              "       [10, 11, 12, 13, 14],\n",
              "       [15, 16, 17, 18, 19],\n",
              "       [20, 21, 22, 23, 24],\n",
              "       [25, 26, 27, 28, 29],\n",
              "       [30, 31, 32, 33, 34],\n",
              "       [35, 36, 37, 38, 39],\n",
              "       [40, 41, 42, 43, 44],\n",
              "       [45, 46, 47, 48, 49]])"
            ]
          },
          "execution_count": 16,
          "metadata": {},
          "output_type": "execute_result"
        }
      ],
      "source": [
        "X"
      ]
    },
    {
      "cell_type": "code",
      "execution_count": 17,
      "metadata": {
        "colab": {
          "base_uri": "https://localhost:8080/"
        },
        "id": "0h4QuwoQcpLQ",
        "outputId": "fd09ef1b-8ce4-48c8-d8c7-23c7c3a7672f"
      },
      "outputs": [
        {
          "data": {
            "text/plain": [
              "array([0, 1, 2, 3, 4])"
            ]
          },
          "execution_count": 17,
          "metadata": {},
          "output_type": "execute_result"
        }
      ],
      "source": [
        "np.min(X, axis=0)"
      ]
    },
    {
      "cell_type": "code",
      "execution_count": 18,
      "metadata": {
        "colab": {
          "base_uri": "https://localhost:8080/"
        },
        "id": "q3NwyDTgcpLQ",
        "outputId": "b96e9101-33d6-49f3-9889-223465334fd6"
      },
      "outputs": [
        {
          "data": {
            "text/plain": [
              "array([[ True,  True,  True,  True,  True],\n",
              "       [ True,  True,  True,  True,  True],\n",
              "       [ True,  True, False, False, False],\n",
              "       [False, False, False, False, False],\n",
              "       [False, False, False, False, False],\n",
              "       [False, False, False, False, False],\n",
              "       [False, False, False, False, False],\n",
              "       [False, False, False, False, False],\n",
              "       [False, False, False, False, False],\n",
              "       [False, False, False, False, False]])"
            ]
          },
          "execution_count": 18,
          "metadata": {},
          "output_type": "execute_result"
        }
      ],
      "source": [
        "Y = X < 12\n",
        "Y"
      ]
    },
    {
      "cell_type": "code",
      "execution_count": 19,
      "metadata": {
        "colab": {
          "base_uri": "https://localhost:8080/"
        },
        "id": "oOQuytv-cpLQ",
        "outputId": "d8feb871-d815-45f5-c249-459c98bacc73"
      },
      "outputs": [
        {
          "data": {
            "text/plain": [
              "array([ True,  True,  True, False, False, False, False, False, False,\n",
              "       False])"
            ]
          },
          "execution_count": 19,
          "metadata": {},
          "output_type": "execute_result"
        }
      ],
      "source": [
        "np.any(Y, axis=1)"
      ]
    },
    {
      "cell_type": "code",
      "execution_count": null,
      "metadata": {
        "colab": {
          "base_uri": "https://localhost:8080/"
        },
        "id": "2QdqqgUPcpLQ",
        "outputId": "b08c721d-61f1-47ea-a0f3-e52d53101c3a"
      },
      "outputs": [],
      "source": [
        "np.all(Y, axis=1)"
      ]
    },
    {
      "cell_type": "markdown",
      "metadata": {
        "id": "-_TlOPAncpLQ"
      },
      "source": [
        "All the above functions can be called on the array object directly"
      ]
    },
    {
      "cell_type": "code",
      "execution_count": 20,
      "metadata": {
        "id": "QKWetd2rcpLQ"
      },
      "outputs": [
        {
          "data": {
            "text/plain": [
              "array([45, 46, 47, 48, 49])"
            ]
          },
          "execution_count": 20,
          "metadata": {},
          "output_type": "execute_result"
        }
      ],
      "source": [
        "# instance.method(args) = class.method(instance, args)\n",
        "X.max(axis=0)"
      ]
    },
    {
      "cell_type": "code",
      "execution_count": 21,
      "metadata": {
        "colab": {
          "base_uri": "https://localhost:8080/"
        },
        "id": "soXpCOcWcpLR",
        "outputId": "71dba770-7426-47b1-8f72-9702b69aba1a"
      },
      "outputs": [
        {
          "name": "stdout",
          "output_type": "stream",
          "text": [
            "[0 1 2 3 4 5 6 7 8 9]\n"
          ]
        },
        {
          "data": {
            "text/plain": [
              "array([ 0,  1,  3,  6, 10, 15, 21, 28, 36, 45])"
            ]
          },
          "execution_count": 21,
          "metadata": {},
          "output_type": "execute_result"
        }
      ],
      "source": [
        "# np.cumsum\n",
        "Y = np.arange(10)\n",
        "print(Y)\n",
        "np.cumsum(Y)"
      ]
    },
    {
      "cell_type": "code",
      "execution_count": null,
      "metadata": {
        "colab": {
          "base_uri": "https://localhost:8080/"
        },
        "id": "OyhUdMg-cpLS",
        "outputId": "9d98fb6a-a014-46f7-8036-a05402ecdf90"
      },
      "outputs": [],
      "source": [
        "X = np.arange(16).reshape(4, 4)\n",
        "print(X)\n",
        "np.cumsum(X, axis=1)"
      ]
    },
    {
      "cell_type": "markdown",
      "metadata": {
        "id": "yLszNjIkcpLS"
      },
      "source": [
        "Cumulative operations don't change the shape of the array"
      ]
    },
    {
      "cell_type": "markdown",
      "metadata": {
        "id": "kLuovJTJcpLS"
      },
      "source": [
        "### Exercise (Post Lecture)\n",
        "\n",
        "- Find the column with maximum column sum\n",
        "- For which rows of the matrix, the sum of the first three elements of the row is greater than the sum of the last two elements of the row"
      ]
    },
    {
      "cell_type": "code",
      "execution_count": 29,
      "metadata": {},
      "outputs": [
        {
          "name": "stdout",
          "output_type": "stream",
          "text": [
            "65\n",
            "2\n",
            "[0 1 2]\n"
          ]
        }
      ],
      "source": [
        "import numpy as np\n",
        "\n",
        "A = np.array([[1, 2, 3, 4, 5],\n",
        "              [6, 7, 8, 9, 10],\n",
        "              [11, 12, 13, 14, 15]])\n",
        "\n",
        "sum=np.sum(A,axis=1)\n",
        "max=np.max(sum)\n",
        "max_col_index = np.argmax(sum)\n",
        "print(max)\n",
        "print(max_col_index)\n",
        "\n",
        "sumfir=np.sum(A[:3],axis=1)\n",
        "sumlast=np.sum(A[:,-2:],axis=1)\n",
        "\n",
        "rows=np.where(sumfir>sumlast)[0]\n",
        "print(rows)"
      ]
    },
    {
      "cell_type": "markdown",
      "metadata": {
        "id": "d0nRCLdmcpLT"
      },
      "source": [
        "### Exercise (Post Lecture)\n",
        "Compute the the moving average of the array `y` created below, with window size 5."
      ]
    },
    {
      "cell_type": "code",
      "execution_count": 31,
      "metadata": {
        "id": "_lmcNe7ucpLV"
      },
      "outputs": [
        {
          "data": {
            "text/plain": [
              "[<matplotlib.lines.Line2D at 0x70f8cee85e10>]"
            ]
          },
          "execution_count": 31,
          "metadata": {},
          "output_type": "execute_result"
        },
        {
          "data": {
            "image/png": "[encoded data removed]",
            "text/plain": [
              "<Figure size 640x480 with 1 Axes>"
            ]
          },
          "metadata": {},
          "output_type": "display_data"
        }
      ],
      "source": [
        "import numpy as np\n",
        "import matplotlib.pyplot as plt\n",
        "\n",
        "np.random.seed(10)\n",
        "y = np.cumsum(np.random.rand(100) - 0.5)\n",
        "plt.plot(y)"
      ]
    },
    {
      "cell_type": "code",
      "execution_count": 32,
      "metadata": {
        "id": "zzs-dYZAcpLW"
      },
      "outputs": [
        {
          "data": {
            "image/png": "[encoded data removed]",
            "text/plain": [
              "<Figure size 640x480 with 1 Axes>"
            ]
          },
          "metadata": {},
          "output_type": "display_data"
        }
      ],
      "source": [
        "window = 5\n",
        "\n",
        "# cumsum trick\n",
        "cumsum = np.cumsum(np.insert(y, 0, 0))   # 在最前面加一个 0\n",
        "moving_avg = (cumsum[window:] - cumsum[:-window]) / window\n",
        "\n",
        "# 绘图\n",
        "plt.plot(y, label=\"original\")\n",
        "plt.plot(np.arange(window-1, len(y)), moving_avg, label=\"moving average (window=5)\")\n",
        "plt.legend()\n",
        "plt.show()\n",
        "\n",
        "\n",
        "\n",
        "# plt.plot(y)\n",
        "# plt.plot(z)"
      ]
    },
    {
      "cell_type": "markdown",
      "metadata": {
        "id": "o2s_gqSucpLW"
      },
      "source": [
        "## Final Exercise (Post Lecture)\n",
        "\n",
        "Implement the [Conway's game of Life](https://en.wikipedia.org/wiki/Conway%27s_Game_of_Life) using numpy"
      ]
    },
    {
      "cell_type": "code",
      "execution_count": 37,
      "metadata": {
        "id": "_QD_KrJ_cpLX"
      },
      "outputs": [
        {
          "name": "stdout",
          "output_type": "stream",
          "text": [
            "初始网格：\n",
            "[[0 0 0 0 0]\n",
            " [0 0 1 0 0]\n",
            " [0 0 0 1 0]\n",
            " [0 1 1 1 0]\n",
            " [0 0 0 0 0]]\n",
            "\n",
            "更新后的网格：\n",
            "[[0 0 0 0 0]\n",
            " [0 0 0 0 0]\n",
            " [0 1 0 1 0]\n",
            " [0 0 1 1 0]\n",
            " [0 0 1 0 0]]\n"
          ]
        }
      ],
      "source": [
        "import numpy as np\n",
        "\n",
        "def update_grid(grid):\n",
        "    \"\"\"\n",
        "    根据康威生命游戏的规则更新网格。\n",
        "    \n",
        "    参数：\n",
        "    grid (np.array)：一个表示当前游戏世界的二维 NumPy 数组。\n",
        "    \n",
        "    返回：\n",
        "    np.array：表示下一代游戏世界的二维 NumPy 数组。\n",
        "    \"\"\"\n",
        "    rows, cols = grid.shape\n",
        "    # 创建一个新的网格来存储下一代的状态，初始化为零\n",
        "    next_grid = np.zeros((rows, cols), dtype=np.int8)\n",
        "    \n",
        "    # 遍历网格中的每个细胞\n",
        "    for i in range(rows):\n",
        "        for j in range(cols):\n",
        "            # 使用切片计算邻居数量\n",
        "            # np.sum() 配合切片可以高效地计算一个区域内所有细胞的和\n",
        "            # 这里通过 i-1, i+2 和 j-1, j+2 来定义一个 3x3 的邻居区域\n",
        "            # 注意：如果 i-1 或 j-1 小于 0，Python 的切片会自动处理\n",
        "            # 同样，如果 i+2 或 j+2 超过边界，切片也会自动处理\n",
        "            # 如果想处理边界条件（例如，循环边界），需要更复杂的切片或填充操作\n",
        "            \n",
        "            # 使用一个填充了零的副本可以简化边界处理\n",
        "            padded_grid = np.pad(grid, 1, mode='constant', constant_values=0)\n",
        "            \n",
        "            # 计算邻居总和（减去自身）\n",
        "            # 切片从 i 到 i+3，j 到 j+3\n",
        "            # 因为 padded_grid 比 grid 大一圈，所以索引需要加 1\n",
        "            total_neighbors = np.sum(padded_grid[i:i+3, j:j+3]) - grid[i, j]\n",
        "\n",
        "            # 康威生命游戏规则：\n",
        "            # 1. 活细胞周围邻居少于2个，死亡（孤独）\n",
        "            if grid[i, j] == 1 and total_neighbors < 2:\n",
        "                next_grid[i, j] = 0\n",
        "            # 2. 活细胞周围邻居有2或3个，存活\n",
        "            elif grid[i, j] == 1 and (total_neighbors == 2 or total_neighbors == 3):\n",
        "                next_grid[i, j] = 1\n",
        "            # 3. 活细胞周围邻居多于3个，死亡（过度拥挤）\n",
        "            elif grid[i, j] == 1 and total_neighbors > 3:\n",
        "                next_grid[i, j] = 0\n",
        "            # 4. 死细胞周围邻居正好3个，复活\n",
        "            elif grid[i, j] == 0 and total_neighbors == 3:\n",
        "                next_grid[i, j] = 1\n",
        "                \n",
        "    return next_grid\n",
        "\n",
        "# 示例：初始化一个简单的网格（例如一个滑翔机）\n",
        "initial_grid = np.array([\n",
        "    [0, 0, 0, 0, 0],\n",
        "    [0, 0, 1, 0, 0],\n",
        "    [0, 0, 0, 1, 0],\n",
        "    [0, 1, 1, 1, 0],\n",
        "    [0, 0, 0, 0, 0]\n",
        "])\n",
        "\n",
        "print(\"初始网格：\")\n",
        "print(initial_grid)\n",
        "\n",
        "# 更新一次网格\n",
        "updated_grid = update_grid(initial_grid)\n",
        "\n",
        "print(\"\\n更新后的网格：\")\n",
        "print(updated_grid)"
      ]
    }
  ],
  "metadata": {
    "colab": {
      "provenance": [],
      "toc_visible": true
    },
    "kernelspec": {
      "display_name": "Python 3",
      "language": "python",
      "name": "python3"
    },
    "language_info": {
      "codemirror_mode": {
        "name": "ipython",
        "version": 3
      },
      "file_extension": ".py",
      "mimetype": "text/x-python",
      "name": "python",
      "nbconvert_exporter": "python",
      "pygments_lexer": "ipython3",
      "version": "3.10.12"
    }
  },
  "nbformat": 4,
  "nbformat_minor": 0
}
